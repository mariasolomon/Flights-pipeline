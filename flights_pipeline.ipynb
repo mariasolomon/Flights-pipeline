{
 "cells": [
  {
   "cell_type": "code",
   "execution_count": 19,
   "metadata": {},
   "outputs": [],
   "source": [
    "from FlightRadar24.api import FlightRadar24API\n",
    "\n",
    "from pyspark import SparkConf, SparkContext\n",
    "from pyspark.sql import SparkSession\n",
    "from pyspark.sql.types import *\n",
    "from pyspark.sql import SparkSession, Row\n",
    "from pyspark.sql.functions import *"
   ]
  },
  {
   "cell_type": "code",
   "execution_count": 20,
   "metadata": {},
   "outputs": [],
   "source": [
    "fr_api = FlightRadar24API()\n",
    "#spark = SparkSession.builder.getOrCreate()\n",
    "spark = SparkSession.builder.master(\"local[8]\").getOrCreate()"
   ]
  },
  {
   "cell_type": "code",
   "execution_count": 21,
   "metadata": {},
   "outputs": [],
   "source": [
    "def extract_zones_toDF():\n",
    "    def process_zones(tmp, result, root):\n",
    "        for el in tmp:\n",
    "            result.append([str(el), str(root), float(tmp[el]['tl_y']), float(tmp[el]['tl_x']), float(tmp[el]['br_y']), float(tmp[el]['br_x'])])\n",
    "            \n",
    "            if 'subzones' in tmp[el]:\n",
    "                process_zones(tmp[el]['subzones'], result, el)\n",
    "                \n",
    "    array_zones = []\n",
    "    zones = fr_api.get_zones()\n",
    "    process_zones(zones,array_zones, None)\n",
    "\n",
    "    schema_zones = StructType([\n",
    "    StructField(\"Subzone\", StringType(), True),\n",
    "    StructField(\"Zone\", StringType(), True),\n",
    "    StructField(\"br_x\", FloatType(), True),\n",
    "    StructField(\"br_y\", FloatType(), True),\n",
    "    StructField(\"tl_x\", FloatType(), True),\n",
    "    StructField(\"tl_y\", FloatType(), True)\n",
    "    ])\n",
    "    \n",
    "    df_zones = spark.createDataFrame(array_zones, schema=schema_zones)\n",
    "    df_zones = df_zones.withColumn(\"Subzone\", initcap(col('Subzone')))\n",
    "    df_zones = df_zones.withColumn(\"Zone\", initcap(col('Zone')))\n",
    "\n",
    "    return df_zones"
   ]
  },
  {
   "cell_type": "code",
   "execution_count": 22,
   "metadata": {},
   "outputs": [],
   "source": [
    "def extract_airlines_toDF():\n",
    "    def convert_airlines(lst):\n",
    "        for airline in lst:\n",
    "            airline['Code'] = str(airline['Code'])\n",
    "            airline['ICAO'] = str(airline['ICAO'])\n",
    "            airline['Name'] = str(airline['Name'])\n",
    "        return lst \n",
    "\n",
    "    schema_airlines = StructType([\n",
    "        StructField(\"Code\", StringType(), True),\n",
    "        StructField(\"ICAO\", StringType(), True),\n",
    "        StructField(\"Name\", StringType(), True)\n",
    "    ])\n",
    "    airlines = fr_api.get_airlines()\n",
    "    airlines = convert_airlines(airlines)\n",
    "    \n",
    "    df_airlines = spark.createDataFrame(airlines, schema=schema_airlines)\n",
    "    return df_airlines"
   ]
  },
  {
   "cell_type": "markdown",
   "metadata": {},
   "source": [
    "La colonne 'alt' contient qq données comme \"-1\" qui sont catégorisées comme string et pas int.\n",
    "La colonne 'lon' et 'lan contient qq données catégorisées comme int et pas float comme la majorité."
   ]
  },
  {
   "cell_type": "code",
   "execution_count": 23,
   "metadata": {},
   "outputs": [],
   "source": [
    "def extract_airports_toDF():\n",
    "    def convert_airports(lst):\n",
    "        for airport in lst:\n",
    "            airport['name'] = str(airport['name'])\n",
    "            airport['iata'] = str(airport['iata'])\n",
    "            airport['icao'] = str(airport['icao'])\n",
    "            airport['country'] = str(airport['country'])\n",
    "            airport['lat'] = float(airport['lat'])\n",
    "            airport['lon'] = float(airport['lon'])\n",
    "            airport['alt'] = int(airport['alt'])\n",
    "        return lst\n",
    "        \n",
    "    airports = fr_api.get_airports()\n",
    "    airports_typed_columns = convert_airports(airports)\n",
    "\n",
    "    schema_airports = StructType([\n",
    "    StructField(\"name\", StringType(), True),\n",
    "    StructField(\"iata\", StringType(), True),\n",
    "    StructField(\"icao\", StringType(), True),\n",
    "    StructField(\"country\", StringType(), True),\n",
    "    StructField(\"lat\", FloatType(), True),\n",
    "    StructField(\"lon\", FloatType(), True),\n",
    "    StructField(\"alt\", IntegerType(), True)\n",
    "    ])\n",
    "    df_airports = spark.createDataFrame(airports_typed_columns, schema=schema_airports)\n",
    "\n",
    "    return df_airports"
   ]
  },
  {
   "cell_type": "code",
   "execution_count": 24,
   "metadata": {},
   "outputs": [],
   "source": [
    "def extract_flights_toDF():\n",
    "   def convert_flights(lst):\n",
    "      for flight in lst:\n",
    "         flight = flight.__dict__\n",
    "         flight['id'] = str(flight['id'])\n",
    "         flight['icao_24bit'] = str(flight['icao_24bit'])\n",
    "         flight['latitude'] = float(flight['latitude'])\n",
    "         flight['longitude'] = float(flight['longitude'])\n",
    "         flight['heading'] = int(flight['heading'])\n",
    "         flight['altitude'] = int(flight['altitude'])\n",
    "         flight['ground_speed'] = int(flight['ground_speed'])\n",
    "         flight['squawk'] = str(flight['squawk'])\n",
    "         flight['aircraft_code'] = str(flight['aircraft_code'])\n",
    "         flight['registration'] = str(flight['registration'])\n",
    "         flight['time'] = int(flight['time'])\n",
    "         flight['origin_airport_iata'] = str(flight['origin_airport_iata'])\n",
    "         flight['destination_airport_iata'] = str(flight['destination_airport_iata'])\n",
    "         flight['number'] = str(flight['number'])\n",
    "         flight['airline_iata'] = str(flight['airline_iata'])\n",
    "         flight['on_ground'] = int(flight['on_ground'])\n",
    "         flight['vertical_speed'] = int(flight['vertical_speed'])\n",
    "         flight['callsign'] = str(flight['callsign'])\n",
    "         flight['airline_icao'] = str(flight['airline_icao'])\n",
    "         \n",
    "         details = fr_api.get_flight_details(flight['id'])\n",
    "         \n",
    "         if type(details) is dict and 'time' in details and isinstance(details['time']['real']['departure'], type(None)) != True \\\n",
    "            and isinstance(details['time']['real']['arrival'], type(None)) != True:\n",
    "               flight['time_depart'] = int(details['time']['real']['departure'])\n",
    "               flight['time_arrive'] = int(details['time']['real']['arrival'])\n",
    "\n",
    "      return lst\n",
    "\n",
    "   flights = fr_api.get_flights()\n",
    "   flights = convert_flights(flights)\n",
    "   \n",
    "   schema = StructType([\n",
    "   StructField(\"id\", StringType(), True),\n",
    "   StructField(\"icao_24bit\", StringType(), True),\n",
    "   StructField(\"latitude\", FloatType(), True),\n",
    "   StructField(\"longitude\", FloatType(), True),\n",
    "   StructField(\"heading\", IntegerType(), True),\n",
    "   StructField(\"altitude\", IntegerType(), True),\n",
    "   StructField(\"ground_speed\", IntegerType(), True),\n",
    "   StructField(\"squawk\", StringType(), True),\n",
    "   StructField(\"aircraft_code\", StringType(), True),\n",
    "   StructField(\"registration\", StringType(), True),\n",
    "   StructField(\"time\", IntegerType(), True),\n",
    "   StructField(\"origin_airport_iata\", StringType(), True),\n",
    "   StructField(\"destination_airport_iata\", StringType(), True),\n",
    "   StructField(\"number\", StringType(), True),\n",
    "   StructField(\"airline_iata\", StringType(), True),\n",
    "   StructField(\"on_ground\", IntegerType(), True),\n",
    "   StructField(\"vertical_speed\", IntegerType(), True),\n",
    "   StructField(\"callsign\", StringType(), True),\n",
    "   StructField(\"airline_icao\", StringType(), True),\n",
    "   StructField(\"time_depart\", IntegerType(), True),\n",
    "   StructField(\"time_arrive\", IntegerType(), True)\n",
    "   ])\n",
    "\n",
    "   df_flights = spark.createDataFrame(flights, schema=schema)\n",
    "   return df_flights"
   ]
  },
  {
   "cell_type": "markdown",
   "metadata": {},
   "source": [
    "Chercher pour anomalies sur df_airlines"
   ]
  },
  {
   "cell_type": "code",
   "execution_count": 25,
   "metadata": {},
   "outputs": [],
   "source": [
    "def check_column_quality(df, columnName ):\n",
    "    vals = df.select(columnName).count()\n",
    "    distinct_vals = df.select(columnName).distinct().count()\n",
    "    null_vals = df.filter((df[columnName] == \"\") | (df[columnName] == \"N/A\") | (df[columnName] == None) ).count()\n",
    "    print(f\"Column {(columnName)} values : {(vals)}\")\n",
    "    print(f\"Column {(columnName)} distinct values : {(distinct_vals)}\")\n",
    "    print(f\"Column {(columnName)} null values : {(null_vals)}\\n\")"
   ]
  },
  {
   "cell_type": "code",
   "execution_count": 26,
   "metadata": {},
   "outputs": [],
   "source": [
    "def check_df_quality(df, df_name):\n",
    "    vals = df.count() \n",
    "    distinct_vals = df.distinct().count() \n",
    "    print(f\"Dataframe {(df_name)}  values : {(vals)}\")\n",
    "    print(f\"Dataframe {(df_name)} distinct values : {(distinct_vals)}\\n\")\n",
    "    \n",
    "    for col in df.dtypes:\n",
    "        check_column_quality(df, col[0])\n",
    "    print(\"------------------------------------------------\")"
   ]
  },
  {
   "cell_type": "code",
   "execution_count": 27,
   "metadata": {},
   "outputs": [],
   "source": [
    "df_flights = extract_flights_toDF()\n",
    "df_airports = extract_airports_toDF()\n",
    "df_airlines = extract_airlines_toDF()\n",
    "df_zones = extract_zones_toDF()"
   ]
  },
  {
   "cell_type": "code",
   "execution_count": 28,
   "metadata": {},
   "outputs": [
    {
     "data": {
      "text/plain": [
       "DataFrame[Code: string, ICAO: string, Name: string]"
      ]
     },
     "execution_count": 28,
     "metadata": {},
     "output_type": "execute_result"
    }
   ],
   "source": [
    "df_flights.cache()\n",
    "df_airports.cache()\n",
    "df_airlines.cache()\n",
    "\n",
    "#df_flights.show(5,False)"
   ]
  },
  {
   "cell_type": "code",
   "execution_count": null,
   "metadata": {},
   "outputs": [],
   "source": [
    "df_flights.show()\n"
   ]
  },
  {
   "cell_type": "code",
   "execution_count": 30,
   "metadata": {},
   "outputs": [],
   "source": [
    "import datetime\n",
    "\n",
    "today = datetime.datetime.today()\n",
    "cleaned_timestamp = str(today).translate(str.maketrans(\"\", \"\", \".-: \"))"
   ]
  },
  {
   "cell_type": "code",
   "execution_count": 31,
   "metadata": {},
   "outputs": [],
   "source": [
    "def save_hdfs(df, path, file_prefix):\n",
    "    df.write.format(\"csv\").option(\"header\", \"true\").mode(\"overwrite\").save(path+\"/tech_year=\" + str(today.year) + \"/\" +\n",
    "                \"tech_month=\" + str(today.year) + '-' + str(today.month) + \"/\" +\n",
    "                 \"tech_day=\" + str(today.year) + '-' + str(today.month) + \"-\" + str(today.day) + \"/\" +\n",
    "                 file_prefix + cleaned_timestamp + \".csv\"\n",
    "                )\n"
   ]
  },
  {
   "cell_type": "code",
   "execution_count": 32,
   "metadata": {},
   "outputs": [
    {
     "name": "stderr",
     "output_type": "stream",
     "text": [
      "                                                                                \r"
     ]
    },
    {
     "name": "stdout",
     "output_type": "stream",
     "text": [
      "Dataframe Airlines  values : 2007\n",
      "Dataframe Airlines distinct values : 2007\n",
      "\n"
     ]
    },
    {
     "name": "stderr",
     "output_type": "stream",
     "text": [
      "                                                                                \r"
     ]
    },
    {
     "name": "stdout",
     "output_type": "stream",
     "text": [
      "Column Code values : 2007\n",
      "Column Code distinct values : 939\n",
      "Column Code null values : 964\n",
      "\n"
     ]
    },
    {
     "name": "stderr",
     "output_type": "stream",
     "text": [
      "                                                                                \r"
     ]
    },
    {
     "name": "stdout",
     "output_type": "stream",
     "text": [
      "Column ICAO values : 2007\n",
      "Column ICAO distinct values : 2007\n",
      "Column ICAO null values : 0\n",
      "\n"
     ]
    },
    {
     "name": "stderr",
     "output_type": "stream",
     "text": [
      "                                                                                \r"
     ]
    },
    {
     "name": "stdout",
     "output_type": "stream",
     "text": [
      "Column Name values : 2007\n",
      "Column Name distinct values : 1992\n",
      "Column Name null values : 0\n",
      "\n",
      "------------------------------------------------\n"
     ]
    },
    {
     "name": "stderr",
     "output_type": "stream",
     "text": [
      "                                                                                \r"
     ]
    },
    {
     "name": "stdout",
     "output_type": "stream",
     "text": [
      "Dataframe Airports  values : 5125\n",
      "Dataframe Airports distinct values : 5125\n",
      "\n"
     ]
    },
    {
     "name": "stderr",
     "output_type": "stream",
     "text": [
      "                                                                                \r"
     ]
    },
    {
     "name": "stdout",
     "output_type": "stream",
     "text": [
      "Column name values : 5125\n",
      "Column name distinct values : 5108\n",
      "Column name null values : 0\n",
      "\n",
      "Column iata values : 5125\n",
      "Column iata distinct values : 5125\n",
      "Column iata null values : 0\n",
      "\n",
      "Column icao values : 5125\n",
      "Column icao distinct values : 5123\n",
      "Column icao null values : 0\n",
      "\n",
      "Column country values : 5125\n",
      "Column country distinct values : 228\n",
      "Column country null values : 0\n",
      "\n"
     ]
    },
    {
     "name": "stderr",
     "output_type": "stream",
     "text": [
      "                                                                                \r"
     ]
    },
    {
     "name": "stdout",
     "output_type": "stream",
     "text": [
      "Column lat values : 5125\n",
      "Column lat distinct values : 5110\n",
      "Column lat null values : 0\n",
      "\n",
      "Column lon values : 5125\n",
      "Column lon distinct values : 5117\n",
      "Column lon null values : 0\n",
      "\n"
     ]
    },
    {
     "name": "stderr",
     "output_type": "stream",
     "text": [
      "                                                                                \r"
     ]
    },
    {
     "name": "stdout",
     "output_type": "stream",
     "text": [
      "Column alt values : 5125\n",
      "Column alt distinct values : 2056\n",
      "Column alt null values : 0\n",
      "\n",
      "------------------------------------------------\n"
     ]
    },
    {
     "name": "stderr",
     "output_type": "stream",
     "text": [
      "                                                                                \r"
     ]
    },
    {
     "name": "stdout",
     "output_type": "stream",
     "text": [
      "Dataframe Flights  values : 1500\n",
      "Dataframe Flights distinct values : 1500\n",
      "\n",
      "Column id values : 1500\n",
      "Column id distinct values : 1500\n",
      "Column id null values : 0\n",
      "\n",
      "Column icao_24bit values : 1500\n",
      "Column icao_24bit distinct values : 1469\n",
      "Column icao_24bit null values : 32\n",
      "\n",
      "Column latitude values : 1500\n",
      "Column latitude distinct values : 1492\n",
      "Column latitude null values : 0\n",
      "\n",
      "Column longitude values : 1500\n",
      "Column longitude distinct values : 1496\n",
      "Column longitude null values : 0\n",
      "\n",
      "Column heading values : 1500\n",
      "Column heading distinct values : 330\n",
      "Column heading null values : 0\n",
      "\n",
      "Column altitude values : 1500\n",
      "Column altitude distinct values : 547\n",
      "Column altitude null values : 0\n",
      "\n",
      "Column ground_speed values : 1500\n",
      "Column ground_speed distinct values : 372\n",
      "Column ground_speed null values : 0\n",
      "\n",
      "Column squawk values : 1500\n",
      "Column squawk distinct values : 1\n",
      "Column squawk null values : 1500\n",
      "\n",
      "Column aircraft_code values : 1500\n",
      "Column aircraft_code distinct values : 102\n",
      "Column aircraft_code null values : 6\n",
      "\n",
      "Column registration values : 1500\n",
      "Column registration distinct values : 1460\n",
      "Column registration null values : 35\n",
      "\n",
      "Column time values : 1500\n",
      "Column time distinct values : 62\n",
      "Column time null values : 0\n",
      "\n",
      "Column origin_airport_iata values : 1500\n",
      "Column origin_airport_iata distinct values : 265\n",
      "Column origin_airport_iata null values : 347\n",
      "\n",
      "Column destination_airport_iata values : 1500\n",
      "Column destination_airport_iata distinct values : 225\n",
      "Column destination_airport_iata null values : 395\n",
      "\n",
      "Column number values : 1500\n",
      "Column number distinct values : 1112\n",
      "Column number null values : 389\n",
      "\n",
      "Column airline_iata values : 1500\n",
      "Column airline_iata distinct values : 179\n",
      "Column airline_iata null values : 389\n",
      "\n",
      "Column on_ground values : 1500\n",
      "Column on_ground distinct values : 2\n",
      "Column on_ground null values : 0\n",
      "\n",
      "Column vertical_speed values : 1500\n",
      "Column vertical_speed distinct values : 72\n",
      "Column vertical_speed null values : 0\n",
      "\n",
      "Column callsign values : 1500\n",
      "Column callsign distinct values : 1484\n",
      "Column callsign null values : 0\n",
      "\n",
      "Column airline_icao values : 1500\n",
      "Column airline_icao distinct values : 187\n",
      "Column airline_icao null values : 377\n",
      "\n",
      "Column time_depart values : 1500\n",
      "Column time_depart distinct values : 57\n",
      "Column time_depart null values : 0\n",
      "\n",
      "Column time_arrive values : 1500\n",
      "Column time_arrive distinct values : 55\n",
      "Column time_arrive null values : 0\n",
      "\n",
      "------------------------------------------------\n"
     ]
    }
   ],
   "source": [
    "check_df_quality(df_airlines, \"Airlines\")\n",
    "check_df_quality(df_airports, \"Airports\")\n",
    "check_df_quality(df_flights, \"Flights\")"
   ]
  },
  {
   "cell_type": "code",
   "execution_count": 33,
   "metadata": {},
   "outputs": [
    {
     "name": "stderr",
     "output_type": "stream",
     "text": [
      "                                                                                \r"
     ]
    }
   ],
   "source": [
    "save_hdfs(df_flights, \"Flights/rawzone\", \"flights\")\n",
    "save_hdfs(df_airports, \"Airports/rawzone\", \"airports\")\n",
    "save_hdfs(df_airlines, \"Airlines/rawzone\", \"airlines\")"
   ]
  },
  {
   "cell_type": "markdown",
   "metadata": {},
   "source": [
    "### Tache nr 1: La compagnie avec le + de vols en cours"
   ]
  },
  {
   "cell_type": "code",
   "execution_count": 34,
   "metadata": {},
   "outputs": [
    {
     "name": "stdout",
     "output_type": "stream",
     "text": [
      "+----+----+---------------+\n",
      "|Code|ICAO|           Name|\n",
      "+----+----+---------------+\n",
      "|  UA| UAL|United Airlines|\n",
      "+----+----+---------------+\n",
      "\n"
     ]
    }
   ],
   "source": [
    "df_flights = df_flights.filter((df_flights.airline_icao != 'N/A') & (df_flights.on_ground == 0))\n",
    "\n",
    "airlines = df_flights.groupby(['airline_icao']) \\\n",
    "    .count() \\\n",
    "    .sort('count', ascending=False)\n",
    "\n",
    "df_airlines.filter(df_airlines.ICAO == airlines.first()['airline_icao']).show()\n"
   ]
  },
  {
   "cell_type": "code",
   "execution_count": 35,
   "metadata": {},
   "outputs": [],
   "source": [
    "save_hdfs(airlines, \"Airlines/processedzone\", \"airlines_most_flights\")\n",
    "airlines.createOrReplaceTempView(\"airlines_most_flights\")"
   ]
  },
  {
   "cell_type": "markdown",
   "metadata": {},
   "source": [
    "### Tache nr 2: Pour chaque continent, la compagnie avec le + de vols régionaux actifs (continent d'origine == continent de destination)"
   ]
  },
  {
   "cell_type": "code",
   "execution_count": 36,
   "metadata": {},
   "outputs": [],
   "source": [
    "df_airports_continents = df_airports.select(\"name\", \"country\", \"iata\", \"icao\" ).withColumn(\"continent\", \\\n",
    "    when(df_airports.icao.like('A%'), 'Oceania')\n",
    "    .when(df_airports.icao.like('B%'), 'Europe')\n",
    "    .when(df_airports.icao.like('C%'), 'America')\n",
    "    .when(df_airports.icao.like('D%'), 'Africa')\n",
    "    .when(df_airports.icao.like('E%'), 'Europe')\n",
    "    .when(df_airports.icao.like('F%'), 'Africa')\n",
    "    .when(df_airports.icao.like('G%'), 'Africa')\n",
    "    .when(df_airports.icao.like('H%'), 'Africa')\n",
    "    .when(df_airports.icao.like('K%'), 'America')\n",
    "    .when(df_airports.icao.like('L%'), 'Europe')\n",
    "    .when(df_airports.icao.like('M%'), 'America')\n",
    "    .when(df_airports.icao.like('N%'), 'Oceania')\n",
    "    .when(df_airports.icao.like('O%'), 'Asia')\n",
    "    .when(df_airports.icao.like('P%'), 'Oceania')\n",
    "    .when(df_airports.icao.like('R%'), 'Asia')\n",
    "    .when(df_airports.icao.like('S%'), 'America')\n",
    "    .when(df_airports.icao.like('T%'), 'America')\n",
    "    .when(df_airports.icao.like('U%'), 'Asia')\n",
    "    .when(df_airports.icao.like('V%'), 'Asia')\n",
    "    .when(df_airports.icao.like('W%'), 'Asia')\n",
    "    .when(df_airports.icao.like('Y%'), 'Oceania')\n",
    "    .when(df_airports.icao.like('Z%'), 'Asia'))#.show()"
   ]
  },
  {
   "cell_type": "code",
   "execution_count": 37,
   "metadata": {},
   "outputs": [
    {
     "name": "stderr",
     "output_type": "stream",
     "text": [
      "                                                                                \r"
     ]
    }
   ],
   "source": [
    "df_airports_continents.createOrReplaceTempView(\"airports_continents\")\n",
    "save_hdfs(df_airports_continents, \"Airports/processedzone\", \"airports_continents\")"
   ]
  },
  {
   "cell_type": "code",
   "execution_count": 38,
   "metadata": {},
   "outputs": [],
   "source": [
    "df_flights_filtered = df_flights.filter((df_flights.origin_airport_iata != 'N/A') & (df_flights.on_ground == 0) \\\n",
    "                                                    & (df_flights.destination_airport_iata != 'N/A') )"
   ]
  },
  {
   "cell_type": "code",
   "execution_count": 39,
   "metadata": {},
   "outputs": [],
   "source": [
    "filtered_flights_origin = df_flights_filtered.join(df_airports_continents, df_flights.origin_airport_iata ==  df_airports_continents.iata,\"inner\")\n",
    "filtered_flights_dest = df_flights_filtered.join(df_airports_continents, df_flights.destination_airport_iata ==  df_airports_continents.iata,\"inner\")\n",
    "filtered_flights_origin_compact = filtered_flights_origin.select(\"id\", \"origin_airport_iata\", \"name\", \"country\", \"continent\", \"airline_iata\").alias(\"origin\")\n",
    "filtered_flights_dest_compact = filtered_flights_dest.select(\"id\", \"destination_airport_iata\", \"name\", \"country\", \"continent\", \"airline_iata\").alias(\"dest\")"
   ]
  },
  {
   "cell_type": "code",
   "execution_count": 40,
   "metadata": {},
   "outputs": [
    {
     "name": "stderr",
     "output_type": "stream",
     "text": [
      "                                                                                \r"
     ]
    }
   ],
   "source": [
    "filtered_flights_origin_compact.createOrReplaceTempView(\"flights_origin_continent\")\n",
    "filtered_flights_dest_compact.createOrReplaceTempView(\"flights_destination_continent\")\n",
    "save_hdfs(filtered_flights_origin_compact, \"Flights/processedzone\", \"flights_origin_continent\")\n",
    "save_hdfs(filtered_flights_dest_compact, \"Flights/processedzone\", \"flights_dest_continent\")"
   ]
  },
  {
   "cell_type": "code",
   "execution_count": 41,
   "metadata": {},
   "outputs": [],
   "source": [
    "joined_flights = filtered_flights_origin_compact.join(filtered_flights_dest_compact,  \n",
    "            filtered_flights_origin_compact.id ==  filtered_flights_dest_compact.id,\"inner\") \\\n",
    "            .where(col(\"origin.continent\") == col(\"dest.continent\"))\n",
    "\n",
    "joined_flights.createOrReplaceTempView(\"flights_joined_continent\")"
   ]
  },
  {
   "cell_type": "code",
   "execution_count": 42,
   "metadata": {},
   "outputs": [],
   "source": [
    "groupe = joined_flights.groupby([ 'origin.airline_iata']).count().withColumnRenamed(\"count\", \"nb_flights\").sort('count', ascending=False)"
   ]
  },
  {
   "cell_type": "code",
   "execution_count": 43,
   "metadata": {},
   "outputs": [
    {
     "name": "stderr",
     "output_type": "stream",
     "text": [
      "                                                                                \r"
     ]
    }
   ],
   "source": [
    "airlines_most_flights = df_airlines.join(groupe, groupe.airline_iata == df_airlines.Code).sort('nb_flights', ascending=False).drop(\"Code\")\n",
    "save_hdfs(airlines_most_flights, \"Airlines/processedzone\", \"airlines_most_flights\")"
   ]
  },
  {
   "cell_type": "code",
   "execution_count": 51,
   "metadata": {},
   "outputs": [
    {
     "name": "stdout",
     "output_type": "stream",
     "text": [
      "+----+--------------------+------------+----------+\n",
      "|ICAO|                Name|airline_iata|nb_flights|\n",
      "+----+--------------------+------------+----------+\n",
      "| JBU|     JetBlue Airways|          B6|        14|\n",
      "| CMP|       Copa Airlines|          CM|        10|\n",
      "| UAE|            Emirates|          EK|        10|\n",
      "| AAL|   American Airlines|          AA|         7|\n",
      "| CES|China Eastern Air...|          MU|         7|\n",
      "| QTR|       Qatar Airways|          QR|         6|\n",
      "| SVA|              Saudia|          SV|         6|\n",
      "| AFL|            Aeroflot|          SU|         5|\n",
      "| JTL|   Jet Linx Aviation|          JL|         5|\n",
      "| FFT|            Frontier|          F9|         5|\n",
      "+----+--------------------+------------+----------+\n",
      "only showing top 10 rows\n",
      "\n"
     ]
    }
   ],
   "source": [
    "airlines_most_flights.show(10)"
   ]
  },
  {
   "cell_type": "markdown",
   "metadata": {},
   "source": [
    "### Tache nr 3: Le vol en cours avec le trajet le plus long"
   ]
  },
  {
   "cell_type": "code",
   "execution_count": 44,
   "metadata": {},
   "outputs": [],
   "source": [
    "df_flights_flt = df_flights.select(\"id\",\"latitude\", \"longitude\", \"origin_airport_iata\", \"destination_airport_iata\", \"on_ground\", \\\n",
    "    \"aircraft_code\", \"registration\") \\\n",
    "    .filter((df_flights.origin_airport_iata != 'N/A') & (df_flights.on_ground == 0) & (df_flights.destination_airport_iata != 'N/A'))\n",
    "\n",
    "df_flights_flt_origin = df_flights_flt.join(df_airports, df_flights_flt.origin_airport_iata ==  df_airports.iata,\"inner\") \\\n",
    "    .select(\"id\", \"origin_airport_iata\", \"name\", \"country\", \"lat\", \"lon\",  \"aircraft_code\", \"registration\")\\\n",
    "        .withColumnRenamed(\"lat\",\"lat_org\").withColumnRenamed(\"lon\",\"lon_org\").withColumnRenamed( \"name\",\"name_org\").withColumnRenamed(\"country\",\"country_org\")\n",
    "df_flights_flt_dest = df_flights_flt.join(df_airports, df_flights_flt.destination_airport_iata ==  df_airports.iata,\"inner\") \\\n",
    "    .select(\"id\", \"destination_airport_iata\", \"name\", \"country\", \"lat\", \"lon\")\\\n",
    "        .withColumnRenamed(\"lat\",\"lat_dest\").withColumnRenamed(\"lon\",\"lon_dest\").withColumnRenamed( \"name\",\"name_dest\").withColumnRenamed(\"country\",\"country_dest\")\n",
    "\n",
    "df_flights_flt_joined = df_flights_flt_origin.join(df_flights_flt_dest, df_flights_flt_origin.id ==  df_flights_flt_dest.id,\"inner\").drop(\"id\")\n"
   ]
  },
  {
   "cell_type": "code",
   "execution_count": 45,
   "metadata": {},
   "outputs": [
    {
     "name": "stderr",
     "output_type": "stream",
     "text": [
      "                                                                                \r"
     ]
    }
   ],
   "source": [
    "from scipy.spatial import distance\n",
    "distance_udf = udf(lambda lat, lon: float(distance.euclidean(lat, lon)), FloatType())\n",
    "\n",
    "df_flights_flt_res = df_flights_flt_joined.withColumn('Length', distance_udf(array(col(\"lat_org\"), col(\"lon_org\")), \\\n",
    "     array(col(\"lat_dest\"), col(\"lon_dest\")))) \\\n",
    "    .orderBy(col('Length').desc())\n",
    "\n",
    "#df_flights_flt_res.show(5, False)\n",
    "save_hdfs(df_flights_flt_res, \"Flights/processedzone\", \"current_farest_flight\")"
   ]
  },
  {
   "cell_type": "code",
   "execution_count": 52,
   "metadata": {},
   "outputs": [
    {
     "name": "stdout",
     "output_type": "stream",
     "text": [
      "+-------------------+-----------------------------------+-------------+----------+---------+-------------+------------+------------------------+-------------------------------+-------------+----------+---------+---------+\n",
      "|origin_airport_iata|name_org                           |country_org  |lat_org   |lon_org  |aircraft_code|registration|destination_airport_iata|name_dest                      |country_dest |lat_dest  |lon_dest |Length   |\n",
      "+-------------------+-----------------------------------+-------------+----------+---------+-------------+------------+------------------------+-------------------------------+-------------+----------+---------+---------+\n",
      "|SYD                |Sydney Kingsford Smith Airport     |Australia    |-33.9461  |151.1772 |B788         |VH-VKJ      |HNL                     |Honolulu International Airport |United States|21.31868  |-157.922 |314.00082|\n",
      "|YVR                |Vancouver International Airport    |Canada       |49.19388  |-123.184 |B789         |ZK-NZM      |AKL                     |Auckland Airport               |New Zealand  |-37.010914|174.79018|310.1933 |\n",
      "|AKL                |Auckland Airport                   |New Zealand  |-37.010914|174.79018|B789         |ZK-NZL      |YVR                     |Vancouver International Airport|Canada       |49.19388  |-123.184 |310.1933 |\n",
      "|YVR                |Vancouver International Airport    |Canada       |49.19388  |-123.184 |A332         |DQ-FJV      |NAN                     |Nadi International Airport     |Fiji         |-17.7553  |177.4433 |307.99182|\n",
      "|SFO                |San Francisco International Airport|United States|37.61897  |-122.374 |B789         |ZK-NZN      |AKL                     |Auckland Airport               |New Zealand  |-37.010914|174.79018|306.39218|\n",
      "+-------------------+-----------------------------------+-------------+----------+---------+-------------+------------+------------------------+-------------------------------+-------------+----------+---------+---------+\n",
      "only showing top 5 rows\n",
      "\n"
     ]
    }
   ],
   "source": [
    "df_flights_flt_res.show(5, False)"
   ]
  },
  {
   "cell_type": "markdown",
   "metadata": {},
   "source": [
    "### Tache nr 4: Pour chaque continent, la longueur de vol moyenne"
   ]
  },
  {
   "cell_type": "code",
   "execution_count": 46,
   "metadata": {},
   "outputs": [],
   "source": [
    "df_processed_airports = df_airports_continents.drop(\"alt\", \"country\")\n",
    "\n",
    "df_flights_filtered_cleaned = df_flights_filtered.drop(\"squawk\", \"callsign\")\\\n",
    "                            .filter((df_flights.origin_airport_iata != 'N/A') & (df_flights.destination_airport_iata != 'N/A') )\n",
    "\n",
    "filtered_flights_origin = df_flights_filtered_cleaned.join(df_processed_airports, df_flights.origin_airport_iata ==  df_processed_airports.iata,\"inner\")\n",
    "filtered_flights_origin = filtered_flights_origin.alias(\"df_origin\").withColumnRenamed(\"name\",\"name_airport_origin\").withColumnRenamed(\"iata\",\"iata_airport_origin\"). \\\n",
    "        withColumnRenamed(\"continent\",\"continent_airport_origin\").withColumnRenamed(\"icao\",\"icao_airport_origin\"). \\\n",
    "            withColumnRenamed(\"latitude\",\"lat_org\").withColumnRenamed(\"longitude\",\"lon_org\") \\\n",
    "                 .select(\"id\", \"origin_airport_iata\", \"airline_iata\", \"on_ground\", \"vertical_speed\", \"airline_icao\", \"name_airport_origin\", \\\n",
    "                    \"iata_airport_origin\", \"icao_airport_origin\", \"continent_airport_origin\", \"lat_org\", \"lon_org\", \"ground_speed\", \"time_depart\", \"time_arrive\")\n",
    "\n",
    "\n",
    "filtered_flights_dest = df_flights_filtered_cleaned.join(df_processed_airports, df_flights.destination_airport_iata ==  df_processed_airports.iata,\"inner\")\n",
    "filtered_flights_dest = filtered_flights_dest.alias(\"df_dest\") \\\n",
    "    .withColumnRenamed(\"name\",\"name_airport_dest\").withColumnRenamed(\"iata\",\"iata_airport_dest\"). \\\n",
    "        withColumnRenamed(\"continent\",\"continent_airport_dest\").withColumnRenamed(\"icao\",\"icao_airport_dest\"). \\\n",
    "            withColumnRenamed(\"latitude\",\"lat_dest\").withColumnRenamed(\"longitude\",\"lon_dest\") \\\n",
    "                .select(\"id\", \"destination_airport_iata\", \"name_airport_dest\", \\\n",
    "                    \"iata_airport_dest\", \"icao_airport_dest\", \"continent_airport_dest\", \"lat_dest\", \"lon_dest\")\n",
    "\n",
    "\n",
    "filtered_flights = filtered_flights_origin.join(filtered_flights_dest, col(\"df_origin.id\") ==  col(\"df_dest.id\"),\"inner\") \\\n",
    "    .filter(col(\"continent_airport_dest\") == col(\"continent_airport_origin\")).drop(col(\"df_dest.id\"))\n",
    "\n",
    "#filtered_flights.show(2, False)"
   ]
  },
  {
   "cell_type": "code",
   "execution_count": 50,
   "metadata": {},
   "outputs": [],
   "source": [
    "def get_duration_flight(df):\n",
    "    return df.withColumn(\"duration\", hour(from_unixtime(df.time_arrive - df.time_depart )))\n",
    "\n",
    "df4 = filtered_flights.transform(get_duration_flight).filter(\"duration is not null\").orderBy(col(\"duration\").desc())"
   ]
  },
  {
   "cell_type": "code",
   "execution_count": 48,
   "metadata": {},
   "outputs": [
    {
     "name": "stderr",
     "output_type": "stream",
     "text": [
      "                                                                                \r"
     ]
    }
   ],
   "source": [
    "save_hdfs(df4, \"Flights/processedzone\", \"current_longest_flight\")"
   ]
  },
  {
   "cell_type": "code",
   "execution_count": 53,
   "metadata": {},
   "outputs": [
    {
     "name": "stdout",
     "output_type": "stream",
     "text": [
      "+--------+-------------------+------------+---------+--------------+------------+--------------------+-------------------+-------------------+------------------------+-------+-------+------------+-----------+-----------+------------------------+--------------------+-----------------+-----------------+----------------------+--------+--------+--------+\n",
      "|      id|origin_airport_iata|airline_iata|on_ground|vertical_speed|airline_icao| name_airport_origin|iata_airport_origin|icao_airport_origin|continent_airport_origin|lat_org|lon_org|ground_speed|time_depart|time_arrive|destination_airport_iata|   name_airport_dest|iata_airport_dest|icao_airport_dest|continent_airport_dest|lat_dest|lon_dest|duration|\n",
      "+--------+-------------------+------------+---------+--------------+------------+--------------------+-------------------+-------------------+------------------------+-------+-------+------------+-----------+-----------+------------------------+--------------------+-----------------+-----------------+----------------------+--------+--------+--------+\n",
      "|31301e0c|                JED|          AI|        0|          -640|         AIC|Jeddah King Abdul...|                JED|               OEJN|                    Asia|  17.23|78.5082|         117| 1689668665| 1689688988|                     HYD|Hyderabad Rajiv G...|              HYD|             VOHS|                  Asia|   17.23| 78.5082|       6|\n",
      "|31303fd7|                BZV|          Q8|        0|          -704|         TSG|Brazzaville Maya ...|                BZV|               FCBB|                  Africa|-4.7955| 11.864|         139| 1689672591| 1689688962|                     PNR|Pointe Noire Airport|              PNR|             FCPP|                Africa| -4.7955|  11.864|       5|\n",
      "+--------+-------------------+------------+---------+--------------+------------+--------------------+-------------------+-------------------+------------------------+-------+-------+------------+-----------+-----------+------------------------+--------------------+-----------------+-----------------+----------------------+--------+--------+--------+\n",
      "\n"
     ]
    }
   ],
   "source": [
    "df4.show(10)"
   ]
  }
 ],
 "metadata": {
  "kernelspec": {
   "display_name": "Python 3.8.10 64-bit",
   "language": "python",
   "name": "python3"
  },
  "language_info": {
   "codemirror_mode": {
    "name": "ipython",
    "version": 3
   },
   "file_extension": ".py",
   "mimetype": "text/x-python",
   "name": "python",
   "nbconvert_exporter": "python",
   "pygments_lexer": "ipython3",
   "version": "3.8.10"
  },
  "orig_nbformat": 4,
  "vscode": {
   "interpreter": {
    "hash": "916dbcbb3f70747c44a77c7bcd40155683ae19c65e1c03b4aa3499c5328201f1"
   }
  }
 },
 "nbformat": 4,
 "nbformat_minor": 2
}
