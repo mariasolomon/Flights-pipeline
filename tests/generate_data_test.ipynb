{
 "cells": [
  {
   "cell_type": "code",
   "execution_count": 12,
   "metadata": {},
   "outputs": [
    {
     "name": "stderr",
     "output_type": "stream",
     "text": [
      "/home/gorgeous/Documents/.venv/lib/python3.8/site-packages/pyspark/sql/context.py:112: FutureWarning: Deprecated in 3.0.0. Use SparkSession.builder.getOrCreate() instead.\n",
      "  warnings.warn(\n"
     ]
    }
   ],
   "source": [
    "from pyspark.sql import SparkSession\n",
    "from pyspark.sql import SQLContext, DataFrameWriter\n",
    "from pyspark.sql.types import *\n",
    "from pyspark.sql.functions import *\n",
    "spark = SparkSession.builder.master(\"local[8]\").getOrCreate()\n",
    "sqlc = SQLContext(spark)"
   ]
  },
  {
   "cell_type": "code",
   "execution_count": 2,
   "metadata": {},
   "outputs": [
    {
     "name": "stderr",
     "output_type": "stream",
     "text": [
      "                                                                                \r"
     ]
    }
   ],
   "source": [
    "data_flights  = spark.read.option(\"header\", \"true\") \\\n",
    "      .option(\"inferSchema\", \"true\") \\\n",
    "      .csv(\"/user/gorgeous/Flights/rawzone/tech_year=2023/tech_month=2023-6/tech_day=2023-6-6/*.csv\")\n",
    "\n",
    "data_airports = spark.read.option(\"header\", \"true\") \\\n",
    "      .option(\"inferSchema\", \"true\") \\\n",
    "      .csv(\"/user/gorgeous/Airports/rawzone/tech_year=2023/tech_month=2023-6/tech_day=2023-6-6/*.csv\")\n",
    "\n",
    "data_airlines = spark.read.option(\"header\", \"true\") \\\n",
    "      .option(\"inferSchema\", \"true\") \\\n",
    "      .csv(\"/user/gorgeous/Airlines/rawzone/tech_year=2023/tech_month=2023-6/tech_day=2023-6-6/*.csv\")\n"
   ]
  },
  {
   "cell_type": "code",
   "execution_count": 3,
   "metadata": {},
   "outputs": [],
   "source": [
    "data_flights_batch = data_flights.sample(0.02)\n",
    "\n",
    "data_flights_batch.createOrReplaceTempView(\"data_flights_batch\")\n",
    "airports_iata = sqlc.sql(\"\"\"select origin_airport_iata from data_flights_batch UNION \n",
    "                            select destination_airport_iata from data_flights_batch\"\"\")\n",
    "\n",
    "\n",
    "airports_iata = airports_iata.distinct()\n",
    "airports_iata.createOrReplaceTempView(\"airports_iata\")"
   ]
  },
  {
   "cell_type": "code",
   "execution_count": 4,
   "metadata": {},
   "outputs": [],
   "source": [
    "data_airports.createOrReplaceTempView(\"data_airports\")\n",
    "data_airports_batch = sqlc.sql(\"\"\"select * from data_airports where iata IN (select * from airports_iata) \"\"\")\n"
   ]
  },
  {
   "cell_type": "code",
   "execution_count": 5,
   "metadata": {},
   "outputs": [],
   "source": [
    "airlines_iata = sqlc.sql(\"\"\"select airline_iata from data_flights_batch\"\"\")\n",
    "\n",
    "airlines_iata = airlines_iata.distinct()\n",
    "airlines_iata.createOrReplaceTempView(\"airlines_iata\")"
   ]
  },
  {
   "cell_type": "code",
   "execution_count": 6,
   "metadata": {},
   "outputs": [],
   "source": [
    "data_airlines.createOrReplaceTempView(\"data_airlines\")\n",
    "data_airlines_batch = sqlc.sql(\"\"\"select * from data_airlines where Code IN (select * from airlines_iata) \"\"\")"
   ]
  },
  {
   "cell_type": "code",
   "execution_count": 11,
   "metadata": {},
   "outputs": [],
   "source": [
    "data_flights_batch.coalesce(1).write.option(\"header\", True).csv(\"/flights_batch\")\n",
    "data_airports_batch.coalesce(1).write.option(\"header\", True).csv(\"/airports_batch\")\n",
    "data_airlines_batch.coalesce(1).write.option(\"header\", True).csv(\"/airlines_batch\")"
   ]
  }
 ],
 "metadata": {
  "kernelspec": {
   "display_name": "Python 3.8.10 ('.venv': venv)",
   "language": "python",
   "name": "python3"
  },
  "language_info": {
   "codemirror_mode": {
    "name": "ipython",
    "version": 3
   },
   "file_extension": ".py",
   "mimetype": "text/x-python",
   "name": "python",
   "nbconvert_exporter": "python",
   "pygments_lexer": "ipython3",
   "version": "3.8.10"
  },
  "orig_nbformat": 4,
  "vscode": {
   "interpreter": {
    "hash": "26329a3bc35ac84ea37128b5013ad2c81d655b5997ef1cd81e688e19c5edba63"
   }
  }
 },
 "nbformat": 4,
 "nbformat_minor": 2
}
